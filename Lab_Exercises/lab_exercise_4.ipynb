{
 "cells": [
  {
   "cell_type": "markdown",
   "metadata": {},
   "source": [
    "## Database Optimization"
   ]
  },
  {
   "cell_type": "markdown",
   "metadata": {
    "vscode": {
     "languageId": "sql"
    }
   },
   "source": [
    "### Performance Analysis"
   ]
  },
  {
   "cell_type": "code",
   "execution_count": null,
   "metadata": {
    "vscode": {
     "languageId": "sql"
    }
   },
   "outputs": [],
   "source": [
    "EXPLAIN ANALYZE\n",
    "SELECT \n",
    "    product_id,\n",
    "    category,\n",
    "    customer_id,\n",
    "    order_date,\n",
    "    total_revenue,\n",
    "    -- Running total of orders for each product category\n",
    "    SUM(total_revenue) OVER (PARTITION BY category ORDER BY order_date \n",
    "                      ROWS BETWEEN UNBOUNDED PRECEDING AND CURRENT ROW) AS running_total,\n",
    "    -- Rank of each sale within its category based on total_revenue\n",
    "    RANK() OVER (PARTITION BY category ORDER BY total_revenue DESC) AS category_rank,\n",
    "    -- Total orders for each customer\n",
    "    SUM(total_revenue) OVER (PARTITION BY customer_id) AS total_orders_per_customer,\n",
    "    -- Average sale total_revenue for each customer\n",
    "    ROUND(AVG(total_revenue) OVER (PARTITION BY customer_id), 2) AS avg_sale_per_customer,\n",
    "    -- Number of orders made by each customer\n",
    "    COUNT(*) OVER (PARTITION BY customer_id) AS orders_count_per_customer,\n",
    "    -- Difference in orders total_revenue compared to the previous sale for the same customer\n",
    "    total_revenue - LAG(total_revenue) OVER (PARTITION BY customer_id ORDER BY order_date) AS sales_diff\n",
    "FROM \n",
    "    orders\n",
    "JOIN \n",
    "    products \n",
    "USING(product_id)\n",
    "ORDER BY \n",
    "    category, order_date;\n"
   ]
  },
  {
   "cell_type": "markdown",
   "metadata": {},
   "source": [
    "### Indexes on frequently used columns"
   ]
  },
  {
   "cell_type": "code",
   "execution_count": null,
   "metadata": {
    "vscode": {
     "languageId": "sql"
    }
   },
   "outputs": [],
   "source": [
    "-- Index on customer_id\n",
    "CREATE INDEX idx_customer_id ON orders (customer_id);\n",
    "\n",
    "-- Index on order_date\n",
    "CREATE INDEX idx_order_date ON orders (order_date);\n",
    "\n",
    "-- Index on total_revenue\n",
    "CREATE INDEX idx_total_revenue ON orders (total_revenue);\n",
    "\n",
    "-- Index on product_id\n",
    "CREATE INDEX idx_product_id ON orders (product_id);\n",
    "\n",
    "-- -- Index on customer_id\n",
    "CREATE INDEX idx_customers_customer_id ON customers (customer_id);\n",
    "\n",
    "-- Index on product_id\n",
    "CREATE INDEX idx_products_product_id ON products (product_id);\n"
   ]
  },
  {
   "cell_type": "code",
   "execution_count": null,
   "metadata": {
    "vscode": {
     "languageId": "sql"
    }
   },
   "outputs": [],
   "source": [
    "-- Verify index creation\n",
    "\n",
    "-- Show indexes on the orders table\n",
    "SELECT * FROM pg_indexes WHERE tablename = 'orders';\n",
    "\n",
    "-- Show indexes on the products table\n",
    "SELECT * FROM pg_indexes WHERE tablename = 'products';\n",
    "\n",
    "-- Show indexes on the customers table\n",
    "SELECT * FROM pg_indexes WHERE tablename = 'customers';\n"
   ]
  },
  {
   "cell_type": "markdown",
   "metadata": {},
   "source": [
    "### Profiling tools to monitor performance"
   ]
  },
  {
   "cell_type": "code",
   "execution_count": null,
   "metadata": {
    "vscode": {
     "languageId": "sql"
    }
   },
   "outputs": [],
   "source": [
    "-- Enable the extension\n",
    "CREATE EXTENSION pg_stat_statements;\n",
    "\n"
   ]
  },
  {
   "cell_type": "code",
   "execution_count": null,
   "metadata": {
    "vscode": {
     "languageId": "sql"
    }
   },
   "outputs": [],
   "source": [
    "-- View the statistics\n",
    "SELECT \n",
    "    * \n",
    "FROM \n",
    "    pg_stat_statements \n",
    "ORDER BY \n",
    "    total_time DESC \n",
    "LIMIT 10;"
   ]
  },
  {
   "cell_type": "code",
   "execution_count": null,
   "metadata": {
    "vscode": {
     "languageId": "sql"
    }
   },
   "outputs": [],
   "source": [
    "SELECT \n",
    "    query,\n",
    "    calls,\n",
    "    total_time,\n",
    "    mean_time,\n",
    "    rows\n",
    "FROM \n",
    "    pg_stat_statements\n",
    "ORDER BY \n",
    "    total_time DESC\n",
    "LIMIT 10;\n"
   ]
  }
 ],
 "metadata": {
  "language_info": {
   "name": "python"
  }
 },
 "nbformat": 4,
 "nbformat_minor": 2
}
