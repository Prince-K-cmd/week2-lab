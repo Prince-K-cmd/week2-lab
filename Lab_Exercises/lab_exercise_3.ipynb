{
 "cells": [
  {
   "cell_type": "markdown",
   "metadata": {},
   "source": [
    "## Window Functions"
   ]
  },
  {
   "cell_type": "markdown",
   "metadata": {},
   "source": [
    "### Rank product based on sales"
   ]
  },
  {
   "cell_type": "markdown",
   "metadata": {},
   "source": [
    "#### Using `ROW_NUMBER()`"
   ]
  },
  {
   "cell_type": "code",
   "execution_count": null,
   "metadata": {
    "vscode": {
     "languageId": "sql"
    }
   },
   "outputs": [],
   "source": [
    "\n",
    "WITH filtered_sales AS (\n",
    "    SELECT\n",
    "        o.product_id,\n",
    "        o.total_revenue\n",
    "    FROM \n",
    "        orders o\n",
    ")\n",
    "\n",
    "SELECT\n",
    "    P.*,\n",
    "    ROW_NUMBER() OVER (\n",
    "        PARTITION BY product_id \n",
    "        ORDER BY fs.total_revenue DESC\n",
    "    ) AS sales_rank\n",
    "    \n",
    "FROM \n",
    "    filtered_sales fs\n",
    "JOIN\n",
    "    products p\n",
    "USING(product_id);\n",
    "\n"
   ]
  },
  {
   "cell_type": "markdown",
   "metadata": {},
   "source": [
    "#### Using `RANK()` and `DENSE_RANK()`"
   ]
  },
  {
   "cell_type": "code",
   "execution_count": null,
   "metadata": {
    "vscode": {
     "languageId": "sql"
    }
   },
   "outputs": [],
   "source": [
    "WITH filtered_sales AS (\n",
    "    SELECT\n",
    "        o.product_id,\n",
    "        o.quantity,\n",
    "        o.total_revenue\n",
    "    FROM \n",
    "        orders o\n",
    ")\n",
    "\n",
    "SELECT\n",
    "    P.*,\n",
    "    fs.total_revenue,\n",
    "    fs.quantity,\n",
    "    RANK() OVER (\n",
    "        PARTITION BY product_id \n",
    "        ORDER BY \n",
    "            fs.total_revenue DESC,\n",
    "            fs.quantity DESC\n",
    "    ) AS sales_rank\n",
    "    \n",
    "FROM \n",
    "    filtered_sales fs\n",
    "JOIN\n",
    "    products p\n",
    "USING(product_id);"
   ]
  },
  {
   "cell_type": "markdown",
   "metadata": {},
   "source": [
    "#### Using `DENSE_RANK()`"
   ]
  },
  {
   "cell_type": "code",
   "execution_count": null,
   "metadata": {
    "vscode": {
     "languageId": "sql"
    }
   },
   "outputs": [],
   "source": [
    "WITH filtered_sales AS (\n",
    "    SELECT\n",
    "        o.product_id,\n",
    "        o.quantity,\n",
    "        o.total_revenue\n",
    "    FROM \n",
    "        orders o\n",
    ")\n",
    "\n",
    "SELECT\n",
    "    P.*,\n",
    "    fs.total_revenue,\n",
    "    fs.quantity,\n",
    "    DENSE_RANK() OVER (\n",
    "        PARTITION BY product_id \n",
    "        ORDER BY \n",
    "            fs.total_revenue DESC,\n",
    "            fs.quantity DESC\n",
    "    ) AS sales_rank\n",
    "    \n",
    "FROM \n",
    "    filtered_sales fs\n",
    "JOIN\n",
    "    products p\n",
    "USING(product_id);"
   ]
  },
  {
   "cell_type": "markdown",
   "metadata": {},
   "source": [
    "### Running total sales"
   ]
  },
  {
   "cell_type": "code",
   "execution_count": null,
   "metadata": {
    "vscode": {
     "languageId": "sql"
    }
   },
   "outputs": [],
   "source": [
    "\n",
    "WITH filtered_sales AS (\n",
    "    SELECT\n",
    "        o.product_id,\n",
    "        o.total_revenue\n",
    "    FROM \n",
    "        orders o\n",
    ")\n",
    "\n",
    "SELECT\n",
    "    P.*,\n",
    "    fs.total_revenue,\n",
    "    SUM(fs.total_revenue) OVER (\n",
    "        PARTITION BY \n",
    "            p.category \n",
    "        ORDER BY \n",
    "            fs.total_revenue DESC\n",
    "    ) AS running_total_sales\n",
    "    \n",
    "FROM \n",
    "    filtered_sales fs\n",
    "JOIN\n",
    "    products p\n",
    "USING(product_id)\n"
   ]
  },
  {
   "cell_type": "markdown",
   "metadata": {},
   "source": [
    "### Average order value for customer using `PARTITION BY`"
   ]
  },
  {
   "cell_type": "code",
   "execution_count": null,
   "metadata": {
    "vscode": {
     "languageId": "sql"
    }
   },
   "outputs": [],
   "source": [
    "-- SELECT \n",
    "--     *\n",
    "-- FROM \n",
    "--     orders;\n",
    "\n",
    "\n",
    "-- WITH customer_avg_order AS (\n",
    "--     SELECT \n",
    "--         customer_id,\n",
    "--         ROUND(AVG(total_revenue), 2) AS avg_order_value\n",
    "--     FROM \n",
    "--         orders\n",
    "--     GROUP BY \n",
    "--         customer_id\n",
    "-- )\n",
    "\n",
    "-- SELECT \n",
    "--     c.*,\n",
    "--     cao.avg_order_value\n",
    "-- FROM \n",
    "--     customers c\n",
    "-- JOIN \n",
    "--     customer_avg_order cao\n",
    "-- USING(customer_id);\n",
    "\n",
    "-- Same solution using `PARTITION BY`\n",
    "\n",
    "SELECT DISTINCT\n",
    "    C.*,\n",
    "    ROUND(AVG(o.total_revenue) OVER(\n",
    "        PARTITION BY c.customer_id\n",
    "    ), 2) AS avg_order_value\n",
    "FROM \n",
    "    orders o\n",
    "JOIN\n",
    "    customers c\n",
    "USING(customer_id)\n",
    "ORDER BY \n",
    "    c.customer_id;\n",
    "\n",
    "\n",
    "\n"
   ]
  },
  {
   "cell_type": "markdown",
   "metadata": {},
   "source": [
    "### Compare monthly sales with `LAG()` and `LEAD()`"
   ]
  },
  {
   "cell_type": "code",
   "execution_count": null,
   "metadata": {
    "vscode": {
     "languageId": "sql"
    }
   },
   "outputs": [],
   "source": [
    "SELECT \n",
    "    *,\n",
    "    LAG(total_revenue, 1, 0) OVER(\n",
    "        PARTITION BY month\n",
    "    ) AS previous_month_revenue,\n",
    "    LEAD(total_revenue, 1, 0) OVER(\n",
    "        PARTITION BY month\n",
    "    ) AS next_month_revenue\n",
    "FROM \n",
    "    orders;"
   ]
  },
  {
   "cell_type": "markdown",
   "metadata": {},
   "source": [
    "### Analyze sales trend and customer behavior"
   ]
  },
  {
   "cell_type": "code",
   "execution_count": null,
   "metadata": {
    "vscode": {
     "languageId": "sql"
    }
   },
   "outputs": [],
   "source": [
    "SELECT \n",
    "    product_id,\n",
    "    category,\n",
    "    customer_id,\n",
    "    order_date,\n",
    "    total_revenue,\n",
    "    -- Running total of orders for each product category\n",
    "    SUM(total_revenue) OVER (PARTITION BY category ORDER BY order_date \n",
    "                      ROWS BETWEEN UNBOUNDED PRECEDING AND CURRENT ROW) AS running_total,\n",
    "    -- Rank of each sale within its category based on total_revenue\n",
    "    RANK() OVER (PARTITION BY category ORDER BY total_revenue DESC) AS category_rank,\n",
    "    -- Total orders for each customer\n",
    "    SUM(total_revenue) OVER (PARTITION BY customer_id) AS total_orders_per_customer,\n",
    "    -- Average sale total_revenue for each customer\n",
    "    ROUND(AVG(total_revenue) OVER (PARTITION BY customer_id), 2) AS avg_sale_per_customer,\n",
    "    -- Number of orders made by each customer\n",
    "    COUNT(*) OVER (PARTITION BY customer_id) AS orders_count_per_customer,\n",
    "    -- Difference in orders total_revenue compared to the previous sale for the same customer\n",
    "    total_revenue - LAG(total_revenue) OVER (PARTITION BY customer_id ORDER BY order_date) AS sales_diff\n",
    "FROM \n",
    "    orders\n",
    "JOIN \n",
    "    products \n",
    "USING(product_id)\n",
    "ORDER BY \n",
    "    category, order_date;\n"
   ]
  }
 ],
 "metadata": {
  "language_info": {
   "name": "python"
  }
 },
 "nbformat": 4,
 "nbformat_minor": 2
}
