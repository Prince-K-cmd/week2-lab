{
 "cells": [
  {
   "cell_type": "markdown",
   "metadata": {},
   "source": [
    "## Create The Trigger Function"
   ]
  },
  {
   "cell_type": "code",
   "execution_count": null,
   "metadata": {
    "vscode": {
     "languageId": "sql"
    }
   },
   "outputs": [],
   "source": [
    "CREATE OR REPLACE FUNCTION update_inventory_function()\n",
    "RETURNS TRIGGER AS $$\n",
    "BEGIN\n",
    "    -- Check if there is enough stock\n",
    "    IF (SELECT quantity FROM inventory WHERE product_id = NEW.product_id) < NEW.quantity THEN\n",
    "        RAISE EXCEPTION 'Insufficient stock for product_id %', NEW.product_id;\n",
    "    ELSE\n",
    "        -- Decrease the inventory count\n",
    "        UPDATE inventory\n",
    "        SET quantity = quantity - NEW.quantity\n",
    "        WHERE product_id = NEW.product_id;\n",
    "    END IF;\n",
    "    RETURN NEW;\n",
    "END;\n",
    "$$ LANGUAGE plpgsql;\n"
   ]
  },
  {
   "cell_type": "markdown",
   "metadata": {},
   "source": [
    "## Create The Trigger"
   ]
  },
  {
   "cell_type": "code",
   "execution_count": null,
   "metadata": {
    "vscode": {
     "languageId": "sql"
    }
   },
   "outputs": [],
   "source": [
    "CREATE TRIGGER update_inventory\n",
    "AFTER INSERT ON Order_Items\n",
    "FOR EACH ROW\n",
    "EXECUTE FUNCTION update_inventory_function();\n"
   ]
  },
  {
   "cell_type": "markdown",
   "metadata": {},
   "source": [
    "## Stored Procedure"
   ]
  },
  {
   "cell_type": "code",
   "execution_count": null,
   "metadata": {
    "vscode": {
     "languageId": "sql"
    }
   },
   "outputs": [],
   "source": [
    "CREATE OR REPLACE PROCEDURE update_customer_status(customer_id INT)\n",
    "LANGUAGE plpgsql\n",
    "AS $$\n",
    "BEGIN\n",
    "    -- Calculate the total order value for the customer\n",
    "    DECLARE total_order_value NUMERIC;\n",
    "    SELECT SUM(amount) INTO total_order_value\n",
    "    FROM Orders\n",
    "    WHERE customer_id = customer_id;\n",
    "\n",
    "    -- Update the customer status based on the total order value\n",
    "    IF total_order_value > 10000 THEN\n",
    "        UPDATE Customers\n",
    "        SET status = 'VIP'\n",
    "        WHERE id = customer_id;\n",
    "    ELSE\n",
    "        UPDATE Customers\n",
    "        SET status = 'Regular'\n",
    "        WHERE id = customer_id;\n",
    "    END IF;\n",
    "END;\n",
    "$$;\n"
   ]
  }
 ],
 "metadata": {
  "language_info": {
   "name": "python"
  }
 },
 "nbformat": 4,
 "nbformat_minor": 2
}
